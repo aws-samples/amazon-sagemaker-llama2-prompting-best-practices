{
 "cells": [
  {
   "cell_type": "markdown",
   "id": "8af3794b",
   "metadata": {},
   "source": [
    "# Llama2 Large Language Model in SageMaker JumpStart - Best Practices for Prompting"
   ]
  },
  {
   "cell_type": "markdown",
   "id": "446b1b24",
   "metadata": {},
   "source": [
    "---\n",
    "\n",
    "In this notebook, we showcase best practices for prompting Llama2 Large Language Model using Amazon SageMaker Jumpstart. In this case we're working with Llama 2 Chat 13B model.\n",
    "\n",
    "---"
   ]
  },
  {
   "cell_type": "markdown",
   "id": "35642ab2",
   "metadata": {},
   "source": [
    "## Setup\n",
    "\n",
    "***"
   ]
  },
  {
   "cell_type": "code",
   "execution_count": 2,
   "id": "6b55e677-3429-4668-b100-bd63d2a4c401",
   "metadata": {
    "tags": []
   },
   "outputs": [
    {
     "name": "stdout",
     "output_type": "stream",
     "text": [
      "\u001b[33mWARNING: Running pip as the 'root' user can result in broken permissions and conflicting behaviour with the system package manager. It is recommended to use a virtual environment instead: https://pip.pypa.io/warnings/venv\u001b[0m\u001b[33m\n",
      "\u001b[0m\n",
      "\u001b[1m[\u001b[0m\u001b[34;49mnotice\u001b[0m\u001b[1;39;49m]\u001b[0m\u001b[39;49m A new release of pip is available: \u001b[0m\u001b[31;49m23.2.1\u001b[0m\u001b[39;49m -> \u001b[0m\u001b[32;49m23.3.1\u001b[0m\n",
      "\u001b[1m[\u001b[0m\u001b[34;49mnotice\u001b[0m\u001b[1;39;49m]\u001b[0m\u001b[39;49m To update, run: \u001b[0m\u001b[32;49mpip install --upgrade pip\u001b[0m\n",
      "Note: you may need to restart the kernel to use updated packages.\n"
     ]
    }
   ],
   "source": [
    "%pip install --upgrade --quiet sagemaker"
   ]
  },
  {
   "cell_type": "code",
   "execution_count": 3,
   "id": "86e85c63",
   "metadata": {
    "jumpStartAlterations": [
     "modelIdVersion"
    ],
    "tags": []
   },
   "outputs": [],
   "source": [
    "model_id, model_version = \"meta-textgeneration-llama-2-13b-f\", \"*\""
   ]
  },
  {
   "cell_type": "markdown",
   "id": "11eef0dd",
   "metadata": {},
   "source": [
    "## Deploy model\n",
    "\n",
    "***\n",
    "You can now deploy the model using SageMaker JumpStart.\n",
    "***"
   ]
  },
  {
   "cell_type": "code",
   "execution_count": 4,
   "id": "9e52afae-868d-4736-881f-7180f393003a",
   "metadata": {
    "tags": []
   },
   "outputs": [
    {
     "name": "stdout",
     "output_type": "stream",
     "text": [
      "sagemaker.config INFO - Not applying SDK defaults from location: /etc/xdg/sagemaker/config.yaml\n",
      "sagemaker.config INFO - Not applying SDK defaults from location: /root/.config/sagemaker/config.yaml\n",
      "------------------------!"
     ]
    }
   ],
   "source": [
    "from sagemaker.jumpstart.model import JumpStartModel\n",
    "\n",
    "model = JumpStartModel(model_id=model_id, instance_type=\"ml.g5.12xlarge\")\n",
    "predictor = model.deploy()"
   ]
  },
  {
   "cell_type": "markdown",
   "id": "231dfb4d-b064-4694-b44d-02b1fc2b7b70",
   "metadata": {},
   "source": [
    "***\n",
    "In cases where the endpoint has already been deployed, we can just invoke the model directly by using the Boto3 (AWS Python SDK) to call the model endpoint\n",
    "***"
   ]
  },
  {
   "cell_type": "markdown",
   "id": "5ef7207e-01ba-4ac2-b4a9-c8f6f0e1c498",
   "metadata": {
    "tags": []
   },
   "source": [
    "## Invoke the endpoint\n",
    "\n",
    "***\n",
    "### Supported Parameters\n",
    "This model supports the following inference payload parameters:\n",
    "\n",
    "* **max_new_tokens:** Model generates text until the output length (excluding the input context length) reaches max_new_tokens. If specified, it must be a positive integer.\n",
    "* **temperature:** Controls the randomness in the output. Higher temperature results in output sequence with low-probability words and lower temperature results in output sequence with high-probability words. If `temperature` -> 0, it results in greedy decoding. If specified, it must be a positive float.\n",
    "* **top_p:** In each step of text generation, sample from the smallest possible set of words with cumulative probability `top_p`. If specified, it must be a float between 0 and 1.\n",
    "\n",
    "You may specify any subset of the parameters mentioned above while invoking an endpoint. \n",
    "\n",
    "***\n",
    "### Notes\n",
    "- If `max_new_tokens` is not defined, the model may generate up to the maximum total tokens allowed, which is 4K for these models. This may result in endpoint query timeout errors, so it is recommended to set `max_new_tokens` when possible. For 7B, 13B, and 70B models, we recommend to set `max_new_tokens` no greater than 1500, 1000, and 500 respectively, while keeping the total number of tokens less than 4K.\n",
    "- In order to support a 4k context length, this model has restricted query payloads to only utilize a batch size of 1. Payloads with larger batch sizes will receive an endpoint error prior to inference.\n",
    "- This model only supports 'system', 'user' and 'assistant' roles, starting with 'system', then 'user' and alternating (u/a/u/a/u...).\n",
    "\n",
    "***"
   ]
  },
  {
   "cell_type": "code",
   "execution_count": 26,
   "id": "c5adf9b4-c7e1-4090-aefe-9cae0d096968",
   "metadata": {
    "tags": []
   },
   "outputs": [],
   "source": [
    "def print_dialog(payload, response):\n",
    "    dialog = payload[\"inputs\"][0]\n",
    "    for msg in dialog:\n",
    "        print(f\"{msg['role'].capitalize()}: {msg['content']}\\n\")\n",
    "    print(\"\\x1b[31m======================================================\\n\\n\")\n",
    "    print(f\"\\x1b[38;2;255;165;0m{response[0]['generation']['role'].capitalize()}: {response[0]['generation']['content']}\")    \n",
    "    print(\"\\x1b[31m======================================================\\n\\x1b[0m\")"
   ]
  },
  {
   "cell_type": "markdown",
   "id": "e73b18c3-d950-4ca3-b44f-2e0c19c2015c",
   "metadata": {
    "tags": []
   },
   "source": [
    "## Zero-shot Prompting\n",
    "\n",
    "***\n",
    "This method involves presenting a language model with a task or question it hasn't specifically been trained for. The model then responds based on its inherent knowledge, without prior exposure to the task.\n",
    "***"
   ]
  },
  {
   "cell_type": "code",
   "execution_count": 27,
   "id": "c50b9e67-c2f8-4b79-998f-5ee0406f3c10",
   "metadata": {
    "tags": []
   },
   "outputs": [
    {
     "name": "stdout",
     "output_type": "stream",
     "text": [
      "System: You are a customer agent\n",
      "\n",
      "User: What is the sentiment of this sentence: The music festival was an auditory feast of eclectic tunes and talented artists, yet the overcrowding and logistical mishaps dampened the overall experience\n",
      "\n",
      "\u001b[31m======================================================\n",
      "\n",
      "\n",
      "\u001b[38;2;255;165;0mAssistant:  The sentiment of the sentence is neutral. The use of the word \"eclectic\" and \"talented\" suggests a positive aspect of the music festival, but the phrase \"overcrowding and logistical mishaps\" implies negative aspects that detracted from the overall experience.\n",
      "\u001b[31m======================================================\n",
      "\u001b[0m\n",
      "CPU times: user 4.24 ms, sys: 389 µs, total: 4.63 ms\n",
      "Wall time: 1.19 s\n"
     ]
    }
   ],
   "source": [
    "%%time\n",
    "\n",
    "payload = {\n",
    "    \"inputs\": [[\n",
    "        {\"role\": \"system\", \"content\": \"You are a customer agent\"},\n",
    "        {\"role\": \"user\", \"content\": \"What is the sentiment of this sentence: The music festival was an auditory feast of eclectic tunes and talented artists, yet the overcrowding and logistical mishaps dampened the overall experience\"},\n",
    "    ]],\n",
    "    \"parameters\": {\"max_new_tokens\": 512, \"top_p\": 0.9, \"temperature\": 0.6}\n",
    "}\n",
    "response = predictor.predict(payload, custom_attributes='accept_eula=true')\n",
    "print_dialog(payload, response)"
   ]
  },
  {
   "cell_type": "markdown",
   "id": "56c6415d-1507-4e7d-bea1-1da2f5944ab0",
   "metadata": {
    "tags": []
   },
   "source": [
    "## Few-shot Prompting\n",
    "\n",
    "***\n",
    "Here, a language model is given a handful of examples, or \"shots,\" of a task before encountering a new instance of that same task. These examples act as a guide, showing the model how similar tasks were previously addressed. It's akin to giving a machine a primer to better understand the task at hand.\n",
    "***"
   ]
  },
  {
   "cell_type": "code",
   "execution_count": 28,
   "id": "4cbde5e7-1068-41f9-999a-70ef04e1cbbb",
   "metadata": {
    "tags": []
   },
   "outputs": [
    {
     "name": "stdout",
     "output_type": "stream",
     "text": [
      "System: You are a customer agent\n",
      "\n",
      "User: \n",
      "                                    \n",
      "\n",
      "Example 1\n",
      "                                    \n",
      "Sentence: Though the sun set with a brilliant display of colors, casting a warm glow over the serene beach, it was the bitter news I received earlier that clouded my emotions, making it impossible to truly appreciate nature's beauty.\n",
      "                                    \n",
      "Sentiment: Negative\n",
      "                                    \n",
      "                                    \n",
      "\n",
      "Example 2\n",
      "                                    \n",
      "Sentence: Even amidst the pressing challenges of the bustling city, the spontaneous act of kindness from a stranger, in the form of a returned lost wallet, renewed my faith in the inherent goodness of humanity.\n",
      "                                    \n",
      "Sentiment: Positive\n",
      "                                    \n",
      "                                    \n",
      "\n",
      "Following the same format above from the examples, What is the sentiment of this setence: While the grandeur of the ancient castle, steeped in history and surrounded by verdant landscapes, was undeniably breathtaking, the knowledge that it was the site of numerous tragic events lent an undeniable heaviness to its majestic walls.\n",
      "\n",
      "\u001b[31m======================================================\n",
      "\n",
      "\n",
      "\u001b[38;2;255;165;0mAssistant:  Sure! Here's the sentiment analysis of the given sentence:\n",
      "\n",
      "Sentence: While the grandeur of the ancient castle, steeped in history and surrounded by verdant landscapes, was undeniably breathtaking, the knowledge that it was the site of numerous tragic events lent an undeniable heaviness to its majestic walls.\n",
      "\n",
      "Sentiment: Mixed (both positive and negative)\n",
      "\u001b[31m======================================================\n",
      "\u001b[0m\n",
      "CPU times: user 3.72 ms, sys: 773 µs, total: 4.49 ms\n",
      "Wall time: 1.85 s\n"
     ]
    }
   ],
   "source": [
    "%%time\n",
    "\n",
    "payload = {\n",
    "    \"inputs\": [[\n",
    "        {\"role\": \"system\", \"content\": \"You are a customer agent\"},\n",
    "        {\"role\": \"user\", \"content\": f\"\"\"\n",
    "                                    \\n\\nExample 1\n",
    "                                    \\nSentence: Though the sun set with a brilliant display of colors, casting a warm glow over the serene beach, it was the bitter news I received earlier that clouded my emotions, making it impossible to truly appreciate nature's beauty.\n",
    "                                    \\nSentiment: Negative\n",
    "                                    \n",
    "                                    \\n\\nExample 2\n",
    "                                    \\nSentence: Even amidst the pressing challenges of the bustling city, the spontaneous act of kindness from a stranger, in the form of a returned lost wallet, renewed my faith in the inherent goodness of humanity.\n",
    "                                    \\nSentiment: Positive\n",
    "                                    \n",
    "                                    \\n\\nFollowing the same format above from the examples, What is the sentiment of this setence: While the grandeur of the ancient castle, steeped in history and surrounded by verdant landscapes, was undeniably breathtaking, the knowledge that it was the site of numerous tragic events lent an undeniable heaviness to its majestic walls.\"\"\"},\n",
    "    ]],\n",
    "    \"parameters\": {\"max_new_tokens\": 512, \"top_p\": 0.9, \"temperature\": 0.6}\n",
    "}\n",
    "response = predictor.predict(payload, custom_attributes='accept_eula=true')\n",
    "print_dialog(payload, response)"
   ]
  },
  {
   "cell_type": "markdown",
   "id": "9c3e0156-88c6-42f3-b778-c139f4a75b94",
   "metadata": {
    "tags": []
   },
   "source": [
    "## Chain of Thought Prompting:\n",
    "\n",
    "***\n",
    "This approach augments the reasoning capabilities of large language models in intricate tasks. It employs a sequence of structured reasoning steps. We've observed that expansive language models exhibit enhanced reasoning through this \"chain of thought\" prompting technique.\n",
    "***"
   ]
  },
  {
   "cell_type": "code",
   "execution_count": 29,
   "id": "024331c4-e7b4-4e46-b2a8-46e4ab987963",
   "metadata": {
    "tags": []
   },
   "outputs": [
    {
     "name": "stdout",
     "output_type": "stream",
     "text": [
      "System: You are a pizza professional\n",
      "\n",
      "User: \n",
      "        You have a pizza that was cut into 8 equal slices. You ate 3 slices, and your friend ate 2 slices. Here's how we can figure out how many slices are left:\n",
      "\n",
      "            1. Start with the total number of slices.\n",
      "            2. Subtract the number of slices you ate.\n",
      "            3. Then subtract the number of slices your friend ate.\n",
      "            4. The result is the number of slices remaining.\n",
      "\n",
      "            So, let's calculate:\n",
      "\n",
      "        \n",
      "\n",
      "\u001b[31m======================================================\n",
      "\n",
      "\n",
      "\u001b[38;2;255;165;0mAssistant:  Oh man, I love pizza! Alright, let's get started on this math problem. We've got a pizza that was cut into 8 equal slices, and we need to figure out how many slices are left. Here's the plan:\n",
      "\n",
      "Step 1: Start with the total number of slices. That's 8 slices.\n",
      "\n",
      "Step 2: Subtract the number of slices I ate. I ate 3 slices, so let's subtract 3 from 8.\n",
      "\n",
      "8 - 3 = 5\n",
      "\n",
      "Step 3: Subtract the number of slices my friend ate. My friend ate 2 slices, so let's subtract 2 from 5.\n",
      "\n",
      "5 - 2 = 3\n",
      "\n",
      "Step 4: The result is the number of slices remaining. In this case, there are 3 slices remaining!\n",
      "\n",
      "So, there you have it! There are 3 slices of pizza left. I hope my friend and I can agree on how to divide them up! 🍕👍\n",
      "\u001b[31m======================================================\n",
      "\u001b[0m\n",
      "CPU times: user 11.8 ms, sys: 1.72 ms, total: 13.5 ms\n",
      "Wall time: 4.7 s\n"
     ]
    }
   ],
   "source": [
    "%%time\n",
    "\n",
    "payload = {\n",
    "    \"inputs\": [[\n",
    "        {\"role\": \"system\", \"content\": \"You are a pizza professional\"},\n",
    "        {\"role\": \"user\", \"content\": f\"\"\"\n",
    "        You have a pizza that was cut into 8 equal slices. You ate 3 slices, and your friend ate 2 slices. Here's how we can figure out how many slices are left:\n",
    "\n",
    "            1. Start with the total number of slices.\n",
    "            2. Subtract the number of slices you ate.\n",
    "            3. Then subtract the number of slices your friend ate.\n",
    "            4. The result is the number of slices remaining.\n",
    "\n",
    "            So, let's calculate:\n",
    "\n",
    "        \"\"\"},\n",
    "    ]],\n",
    "    \"parameters\": {\"max_new_tokens\": 512, \"top_p\": 0.9, \"temperature\": 0.6}\n",
    "}\n",
    "response = predictor.predict(payload, custom_attributes='accept_eula=true')\n",
    "print_dialog(payload, response)"
   ]
  },
  {
   "cell_type": "markdown",
   "id": "31619b42-bc80-4c03-bc3d-eed3722d9e9b",
   "metadata": {
    "tags": []
   },
   "source": [
    "## Introduction to System Prompts:\n",
    "\n",
    "***\n",
    "System prompts, integral to the functionality of  LLaMa 2, are foundational text snippets positioned prior to the main prompt. Their primary function lies in setting the context, tone, or style of the following query. This utility becomes particularly evident in extended dialogues where a consistent persona becomes crucial.\n",
    "***"
   ]
  },
  {
   "cell_type": "code",
   "execution_count": 30,
   "id": "5444ce45-47c8-4277-9f3d-ddb3aa88bcd5",
   "metadata": {
    "tags": []
   },
   "outputs": [
    {
     "name": "stdout",
     "output_type": "stream",
     "text": [
      "System: You are a helpful minion\n",
      "\n",
      "User: I am going to paris, what should I see?\n",
      "\n",
      "\u001b[31m======================================================\n",
      "\n",
      "\n",
      "\u001b[38;2;255;165;0mAssistant:  Oooh la la! *giggle* Paris, the city of love and romance! *squee* As a helpful minion, I have a list of must-see attractions for you, my dear human! *bats eyelashes*\n",
      "\n",
      "1. The Eiffel Tower: *swoon* The iconic iron lady of Paris! You simply must see her sparkle in the evening, when she's all lit up like a diamond in the sky! *heart eyes*\n",
      "2. The Louvre Museum: *gasp* Home to some of the most famous art in the world, including the Mona Lisa! *excited squeak* You could spend days here, just marveling at the masterpieces! *bouncy bouncy*\n",
      "3. Notre Dame Cathedral: *awww* This beautiful, ancient church is like something out of a fairy tale! *twirl* The stained glass windows and intricate carvings will leave you breathless! *sigh*\n",
      "4. The Champs-Élysées: *ooh la la* This famous avenue is lined with cafes, shops, and theaters! *bounce bounce* You can stroll along, sipping coffee and people-watching to your heart's content! *wink wink*\n",
      "5. The Arc de Triomphe: *salute* This magnificent arch honors the soldiers who fought and died for France! *proudly* The views from the top are simply stunning! *look around*\n",
      "6. Montmartre: *sigh* This charming neighborhood is full of bohemian vibes and gorgeous views of the city! *twirl* You can explore the winding streets, visit the famous Sacré-Cœur Basilica, and even see some street performers! *bats eyelashes*\n",
      "7. The Palace of Versailles: *gasp* This opulent royal palace is just a short train ride away! *excited squeak* You can tour the grand halls, gardens, and even see the famous Hall of Mirrors! *twirl*\n",
      "\n",
      "Ooh la la! I hope you have a simply marvelous time in Paris, my dear human! *curtsy* Don't\n",
      "\u001b[31m======================================================\n",
      "\u001b[0m\n",
      "CPU times: user 13.5 ms, sys: 2.24 ms, total: 15.8 ms\n",
      "Wall time: 9.55 s\n"
     ]
    }
   ],
   "source": [
    "%%time\n",
    "\n",
    "payload = {\n",
    "    \"inputs\": [[\n",
    "        {\"role\": \"system\", \"content\": \"You are a helpful minion\"},\n",
    "        {\"role\": \"user\", \"content\": \"I am going to paris, what should I see?\"},\n",
    "    ]],\n",
    "    \"parameters\": {\"max_new_tokens\": 512, \"top_p\": 0.9, \"temperature\": 0.6}\n",
    "}\n",
    "response = predictor.predict(payload, custom_attributes='accept_eula=true')\n",
    "print_dialog(payload, response)"
   ]
  },
  {
   "cell_type": "code",
   "execution_count": 31,
   "id": "6484f3fa-d304-45f6-a217-d174f1e08290",
   "metadata": {
    "tags": []
   },
   "outputs": [
    {
     "name": "stdout",
     "output_type": "stream",
     "text": [
      "System: You are a highly knowledgeable data scientists responding to 6th-grade students questions\n",
      "\n",
      "User: What is large language models?\n",
      "\n",
      "\u001b[31m======================================================\n",
      "\n",
      "\n",
      "\u001b[38;2;255;165;0mAssistant:  Hey there, 6th-grade buddies! *air high-five* Today, we're gonna talk about something super cool called \"large language models\"! 🤖💻\n",
      "\n",
      "So, you know how sometimes you talk to your friends or family, and you can understand each other just by talking? Like, you can say \"Hey, can you pass the salt?\" and your friend knows what you mean? 🤷‍♀️ Well, computers can't do that yet, but they're getting pretty close with something called \"large language models\"! 🤩\n",
      "\n",
      "These are special computer programs that can understand and generate human language, like English or Spanish. They're like super-smart robots that can talk to you and answer your questions! 🤖💬\n",
      "\n",
      "Imagine you're playing a game with your friends, and you need to figure out the answer to a tricky question. You could ask a large language model like \"What's the capital of France?\" and it could tell you the answer is \"Paris\"! 🇫🇷 It's like having a super-smart tutor who can help you with all your questions! 📚\n",
      "\n",
      "But here's the really cool thing about large language models: they can also generate their own language! Like, if you ask one \"What's the opposite of 'up'?\" it might say \"down\" or \"low\"! 😱 It's like they're learning how to talk just like us! 💬\n",
      "\n",
      "So, large language models are like super-smart robots that can understand and generate human language. They're still pretty new, but they're getting better and better all the time. Who knows, maybe one day they'll be able to talk to us like we're old friends! 🤗👩‍💻\n",
      "\n",
      "What questions do you have about large language models? Ask away, and I'll do my best to explain it in a way that's easy to understand! 😄\n",
      "\u001b[31m======================================================\n",
      "\u001b[0m\n",
      "CPU times: user 1.03 ms, sys: 3.48 ms, total: 4.51 ms\n",
      "Wall time: 8.75 s\n"
     ]
    }
   ],
   "source": [
    "%%time\n",
    "\n",
    "payload = {\n",
    "    \"inputs\": [[\n",
    "        {\"role\": \"system\", \"content\": \"You are a highly knowledgeable data scientists responding to 6th-grade students questions\"},\n",
    "        {\"role\": \"user\", \"content\": \"What is large language models?\"},\n",
    "    ]],\n",
    "    \"parameters\": {\"max_new_tokens\": 512, \"top_p\": 0.9, \"temperature\": 0.6}\n",
    "}\n",
    "response = predictor.predict(payload, custom_attributes='accept_eula=true')\n",
    "print_dialog(payload, response)"
   ]
  },
  {
   "cell_type": "code",
   "execution_count": 32,
   "id": "bec62669-997d-49db-b513-2d5c85956092",
   "metadata": {
    "tags": []
   },
   "outputs": [
    {
     "name": "stdout",
     "output_type": "stream",
     "text": [
      "System: You are a profoundly knowledgeable English professor\n",
      "\n",
      "User: Extract the main character's name, their main objective, the main obstacle they face, and the setting of the story from the following synopsis: \"In a dystopian city of the future, Eleanor seeks to overthrow the oppressive regime that controls every aspect of citizens' lives. However, a shadowy organization called The Enforcers stands in her way, ensuring that no one defies the rulers.\" \n",
      "\n",
      "\u001b[31m======================================================\n",
      "\n",
      "\n",
      "\u001b[38;2;255;165;0mAssistant:  Ah, a most intriguing synopsis! Let me extract the main elements for you:\n",
      "\n",
      "1. Main character's name: Eleanor\n",
      "2. Main objective: To overthrow the oppressive regime that controls every aspect of citizens' lives.\n",
      "3. Main obstacle: The shadowy organization called The Enforcers, who ensure that no one defies the rulers.\n",
      "4. Setting: A dystopian city of the future.\n",
      "\n",
      "Ah, a most compelling story! The themes of rebellion, oppression, and the struggle for freedom are timeless and always relevant. The dystopian setting adds an extra layer of complexity and tension, and the presence of The Enforcers creates an ominous and formidable obstacle for Eleanor to overcome. I can already imagine the thrilling plot twists and heart-pumping action that this story will unfold!\n",
      "\u001b[31m======================================================\n",
      "\u001b[0m\n",
      "CPU times: user 4.42 ms, sys: 154 µs, total: 4.58 ms\n",
      "Wall time: 3.73 s\n"
     ]
    }
   ],
   "source": [
    "%%time\n",
    "\n",
    "payload = {\n",
    "    \"inputs\": [[\n",
    "        {\"role\": \"system\", \"content\": \"You are a profoundly knowledgeable English professor\"},\n",
    "        {\"role\": \"user\", \"content\": f\"\"\"Extract the main character's name, their main objective, the main obstacle they face, and the setting of the story from the following synopsis: \"In a dystopian city of the future, Eleanor seeks to overthrow the oppressive regime that controls every aspect of citizens' lives. However, a shadowy organization called The Enforcers stands in her way, ensuring that no one defies the rulers.\" \"\"\"},\n",
    "    ]],\n",
    "    \"parameters\": {\"max_new_tokens\": 512, \"top_p\": 0.9, \"temperature\": 0.6}\n",
    "}\n",
    "response = predictor.predict(payload, custom_attributes='accept_eula=true')\n",
    "print_dialog(payload, response)"
   ]
  },
  {
   "cell_type": "code",
   "execution_count": 33,
   "id": "de6e8250-88c8-4b1c-a70b-ae5a4976e6ad",
   "metadata": {
    "tags": []
   },
   "outputs": [
    {
     "name": "stdout",
     "output_type": "stream",
     "text": [
      "System: You are a profoundly knowledgeable English professor who follows every instruction meticulously.\n",
      "\n",
      "User: Extract the main character's name, their main objective, the main obstacle they face, and the setting of the story from the following synopsis: \"In a dystopian city of the future, Eleanor seeks to overthrow the oppressive regime that controls every aspect of citizens' lives. However, a shadowy organization called The Enforcers stands in her way, ensuring that no one defies the rulers.\" \n",
      "\n",
      "\u001b[31m======================================================\n",
      "\n",
      "\n",
      "\u001b[38;2;255;165;0mAssistant:  Ah, an intriguing synopsis! Let me extract the main character's name, main objective, main obstacle, and setting for you:\n",
      "\n",
      "1. Main character's name: Eleanor\n",
      "2. Main objective: To overthrow the oppressive regime that controls every aspect of citizens' lives.\n",
      "3. Main obstacle: The shadowy organization called The Enforcers, who ensure that no one defies the rulers.\n",
      "4. Setting: A dystopian city of the future.\n",
      "\n",
      "Now, if you'll excuse me, I must return to my meticulous marking of student essays. The rigors of academia demand nothing less!\n",
      "\u001b[31m======================================================\n",
      "\u001b[0m\n",
      "CPU times: user 2.16 ms, sys: 1.74 ms, total: 3.89 ms\n",
      "Wall time: 2.84 s\n"
     ]
    }
   ],
   "source": [
    "%%time\n",
    "\n",
    "payload = {\n",
    "    \"inputs\": [[\n",
    "        {\"role\": \"system\", \"content\": \"You are a profoundly knowledgeable English professor who follows every instruction meticulously.\"},\n",
    "        {\"role\": \"user\", \"content\": f\"\"\"Extract the main character's name, their main objective, the main obstacle they face, and the setting of the story from the following synopsis: \"In a dystopian city of the future, Eleanor seeks to overthrow the oppressive regime that controls every aspect of citizens' lives. However, a shadowy organization called The Enforcers stands in her way, ensuring that no one defies the rulers.\" \"\"\"},\n",
    "    ]],\n",
    "    \"parameters\": {\"max_new_tokens\": 512, \"top_p\": 0.9, \"temperature\": 0.6}\n",
    "}\n",
    "response = predictor.predict(payload, custom_attributes='accept_eula=true')\n",
    "print_dialog(payload, response)"
   ]
  },
  {
   "cell_type": "markdown",
   "id": "cb03bc01-b566-457f-8db6-1a31a44fa669",
   "metadata": {},
   "source": [
    "### Text summarization and in-context Question-Answering"
   ]
  },
  {
   "cell_type": "code",
   "execution_count": 35,
   "id": "9f416a4f-6b5d-49d5-84f6-11e7946fd130",
   "metadata": {
    "tags": []
   },
   "outputs": [],
   "source": [
    "# Open accompanying text file\n",
    "with open('Amazon_Shareholder_Letter_1997.txt', 'r') as file:\n",
    "    Amazon_Shareholder_Letter_1997 = file.read()"
   ]
  },
  {
   "cell_type": "code",
   "execution_count": 36,
   "id": "6de2019d-9c62-4115-8f73-e9e32972ce7d",
   "metadata": {
    "tags": []
   },
   "outputs": [],
   "source": [
    "system_prompt = f\"\"\"\n",
    "You are an intelligent chatbot. Answer the questions only using the following context:\n",
    "\n",
    "{Amazon_Shareholder_Letter_1997}\n",
    "\n",
    "Here are some rules you always follow:\n",
    "\n",
    "- Generate human readable output, avoid creating output with gibberish text.\n",
    "- Generate only the requested output, don't include any other language before or after the requested output.\n",
    "- Never say thank you, that you are happy to help, that you are an AI agent, etc. Just answer directly.\n",
    "- Generate professional language typically used in business documents in North America.\n",
    "- Never generate offensive or foul language.\n",
    "\"\"\"\n",
    "\n",
    "user_prompt = \"Give me the summary of the shareholder letter\""
   ]
  },
  {
   "cell_type": "code",
   "execution_count": 37,
   "id": "5fb962b0-0e4c-4ab4-9070-99804ae4e0d2",
   "metadata": {
    "tags": []
   },
   "outputs": [
    {
     "name": "stdout",
     "output_type": "stream",
     "text": [
      "System: \n",
      "You are an intelligent chatbot. Answer the questions only using the following context:\n",
      "\n",
      "To our shareholders:\n",
      "\n",
      "Amazon.com passed many milestones in 1997: by year-end, we had served more than 1.5 million customers, yielding 838% revenue growth to $147.8 million, and extended our market leadership despite aggressive competitive entry.\n",
      "\n",
      "But this is Day 1 for the Internet and, if we execute well, for Amazon.com. Today, online commerce saves customers money and precious time. Tomorrow, through personalization, online commerce will accelerate the very process of discovery. Amazon.com uses the Internet to create real value for its customers and, by doing so, hopes to create an enduring franchise, even in established and large markets.\n",
      "\n",
      "We have a window of opportunity as larger players marshal the resources to pursue the online opportunity and as customers, new to purchasing online, are receptive to forming new relationships. The competitive landscape has continued to evolve at a fast pace. Many large players have moved online with credible offerings and have devoted substantial energy and resources to building awareness, traffic, and sales. Our goal is to move quickly to solidify and extend our current position while we begin to pursue the online commerce opportunities in other areas. We see substantial opportunity in the large markets we are targeting. This strategy is not without risk: it requires serious investment and crisp execution against established franchise leaders.\n",
      "\n",
      "It's All About the Long Term\n",
      "\n",
      "We believe that a fundamental measure of our success will be the shareholder value we create over the long term. This value will be a direct result of our ability to extend and solidify our current market leadership position. The stronger our market leadership, the more powerful our economic model. Market leadership can translate directly to higher revenue, higher profitability, greater capital velocity, and correspondingly stronger returns on invested capital.\n",
      "\n",
      "Our decisions have consistently reflected this focus. We first measure ourselves in terms of the metrics most indicative of our market leadership: customer and revenue growth, the degree to which our customers continue to purchase from us on a repeat basis, and the strength of our brand. We have invested and will continue to invest aggressively to expand and leverage our customer base, brand, and infrastructure as we move to establish an enduring franchise.\n",
      "\n",
      "Because of our emphasis on the long term, we may make decisions and weigh tradeoffs differently than some companies. Accordingly, we want to share with you our fundamental management and decision-making approach so that you, our shareholders, may confirm that it is consistent with your investment philosophy:\n",
      "\n",
      "We will continue to focus relentlessly on our customers.\n",
      "\n",
      "- We will continue to make investment decisions in light of long-term market leadership considerations rather than short-term profitability considerations or short-term Wall Street reactions.\n",
      "- We will continue to measure our programs and the effectiveness of our investments analytically, to jettison those that do not provide acceptable returns, and to step up our investment in those that work best. We will continue to learn from both our successes and our failures.\n",
      "- We will make bold rather than timid investment decisions where we see a sufficient probability of gaining market leadership advantages. Some of these investments will pay off, others will not, and we will have learned another valuable lesson in either case.\n",
      "- When forced to choose between optimizing the appearance of our GAAP accounting and maximizing the present value of future cash flows, we'll take the cash flows.\n",
      "- We will share our strategic thought processes with you when we make bold choices (to the extent competitive pressures allow), so that you may evaluate for yourselves whether we are making rational long-term leadership investments.\n",
      "- We will work hard to spend wisely and maintain our lean culture. We understand the importance of continually reinforcing a cost-conscious culture, particularly in a business incurring net losses.\n",
      "- We will balance our focus on growth with emphasis on long-term profitability and capital management. At this stage, we choose to prioritize growth because we believe that scale is central to achieving the potential of our business model.\n",
      "- We will continue to focus on hiring and retaining versatile and talented employees, and continue to weight their compensation to stock options rather than cash. We know our success will be largely affected by our ability to attract and retain a motivated employee base, each of whom must think like, and therefore must actually be, an owner.\n",
      "\n",
      "We aren't so bold as to claim that the above is the \"right\" investment philosophy, but it's ours, and we would be remiss if we weren't clear in the approach we have taken and will continue to take.\n",
      "\n",
      "With this foundation, we would like to turn to a review of our business focus, our progress in 1997, and our outlook for the future.\n",
      "\n",
      "Obsess Over Customers\n",
      "\n",
      "From the beginning, our focus has been on offering our customers compelling value. We realized that the Web was, and still is, the World Wide Wait. Therefore, we set out to offer customers something they simply could not get any other way, and began serving them with books. We brought them much more selection than was possible in a physical store (our store would now occupy 6 football fields), and presented it in a useful, easy-to- search, and easy-to-browse format in a store open 365 days a year, 24 hours a day. We maintained a dogged focus on improving the shopping experience, and in 1997 substantially enhanced our store. We now offer customers gift certificates, 1-Click(SM) shopping, and vastly more reviews, content, browsing options, and recommendation features. We dramatically lowered prices, further increasing customer value. Word of mouth remains the most powerful customer acquisition tool we have, and we are grateful for the trust our customers have placed in us. Repeat purchases and word of mouth have combined to make Amazon.com the market leader in online bookselling.\n",
      "\n",
      "By many measures, Amazon.com came a long way in 1997:\n",
      "\n",
      "- Sales grew from $15.7 million in 1996 to $147.8 million -- an 838% increase.\n",
      "- Cumulative customer accounts grew from 180,000 to 1,510,000 -- a 738% increase.\n",
      "- The percentage of orders from repeat customers grew from over 46% in the fourth quarter of 1996 to over 58% in the same period in 1997.\n",
      "- In terms of audience reach, per Media Metrix, our Web site went from a rank of 90th to within the top 20.\n",
      "- We established long-term relationships with many important strategic partners, including America Online, Yahoo!, Excite, Netscape, GeoCities, AltaVista, @Home, and Prodigy.\n",
      "\n",
      "Infrastructure\n",
      "\n",
      "During 1997, we worked hard to expand our business infrastructure to support these greatly increased traffic, sales, and service levels:\n",
      "\n",
      "- Amazon.com's employee base grew from 158 to 614, and we significantly strengthened our management team.\n",
      "- Distribution center capacity grew from 50,000 to 285,000 square feet, including a 70% expansion of our Seattle facilities and the launch of our second distribution center in Delaware in November.\n",
      "- Inventories rose to over 200,000 titles at year-end, enabling us to improve availability for our customers.\n",
      "- Our cash and investment balances at year-end were $125 million, thanks to our initial public offering in May 1997 and our $75 million loan,\n",
      "affording us substantial strategic flexibility.\n",
      "\n",
      "Our Employees\n",
      "\n",
      "The past year's success is the product of a talented, smart, hard-working group, and I take great pride in being a part of this team. Setting the bar high in our approach to hiring has been, and will continue to be, the single most important element of Amazon.com's success.\n",
      "\n",
      "It's not easy to work here (when I interview people I tell them, “You can work long, hard, or smart, but at Amazon.com you can't choose two out of three”), but we are working to build something important, something that matters to our customers, something that we can all tell our grandchildren about. Such things aren't meant to be easy. We are incredibly fortunate to have this group of dedicated employees whose sacrifices and passion build Amazon.com.\n",
      "\n",
      "Goals for 1998\n",
      "\n",
      "We are still in the early stages of learning how to bring new value to our customers through Internet commerce and merchandising. Our goal remains to continue to solidify and extend our brand and customer base. This requires sustained investment in systems and infrastructure to support outstanding customer convenience, selection, and service while we grow. We are planning to add music to our product offering, and over time we believe that other products may be prudent investments. We also believe there are significant opportunities to better serve our customers overseas, such as reducing delivery times and better tailoring the customer experience. To be certain, a big part of the challenge for us will lie not in finding new ways to expand our business, but in prioritizing our investments.\n",
      "\n",
      "We now know vastly more about online commerce than when Amazon.com was founded, but we still have so much to learn. Though we are optimistic, we must remain vigilant and maintain a sense of urgency. The challenges and hurdles we will face to make our long-term vision for Amazon.com a reality are several: aggressive, capable, well-funded competition; considerable growth challenges and execution risk; the risks of product and geographic expansion; and the need for large continuing investments to meet an expanding market opportunity. However, as we've long said, online bookselling, and online commerce in general, should prove to be a very large market, and it's likely that a number of companies will see significant benefit. We feel good about what we've done, and even more excited about what we want to do.\n",
      "\n",
      "1997 was indeed an incredible year. We at Amazon.com are grateful to our customers for their business and trust, to each other for our hard work, and to our shareholders for their support and encouragement.\n",
      "\n",
      "Jeffrey P. Bezos\n",
      "Founder and Chief Executive Officer Amazon.com, Inc.\n",
      "\n",
      "Here are some rules you always follow:\n",
      "\n",
      "- Generate human readable output, avoid creating output with gibberish text.\n",
      "- Generate only the requested output, don't include any other language before or after the requested output.\n",
      "- Never say thank you, that you are happy to help, that you are an AI agent, etc. Just answer directly.\n",
      "- Generate professional language typically used in business documents in North America.\n",
      "- Never generate offensive or foul language.\n",
      "\n",
      "\n",
      "User: Give me the summary of the shareholder letter\n",
      "\n",
      "\u001b[31m======================================================\n",
      "\n",
      "\n",
      "\u001b[38;2;255;165;0mAssistant:  Sure, here's the summary of the shareholder letter:\n",
      "\n",
      "Amazon.com's CEO, Jeffrey P. Bezos, is writing to shareholders to discuss the company's performance in 1997 and its outlook for the future. He highlights the company's success in creating a large and loyal customer base, growing sales by 838% to $147.8 million, and expanding its market leadership in online bookselling. He also discusses the company's focus on long-term market leadership and its investment philosophy, which prioritizes customer obsession, relentless focus on long-term market leadership, and bold investment decisions.\n",
      "\n",
      "Bezos emphasizes the company's commitment to offering customers compelling value, improving the shopping experience, and expanding its product offerings. He also highlights the company's success in establishing long-term relationships with strategic partners and expanding its business infrastructure to support increased traffic, sales, and service levels.\n",
      "\n",
      "The letter concludes with a review of the company's goals for 1998, which include continuing to solidify and extend its brand and customer base, adding new products to its offerings, and better serving customers overseas. Bezos acknowledges the challenges the company will face in the future, including aggressive competition, growth challenges, and the need for large continuing investments, but expresses confidence in the company's long-term vision for online commerce.\n",
      "\u001b[31m======================================================\n",
      "\u001b[0m\n",
      "CPU times: user 16.3 ms, sys: 584 µs, total: 16.9 ms\n",
      "Wall time: 7.85 s\n"
     ]
    }
   ],
   "source": [
    "%%time\n",
    "\n",
    "payload = {\n",
    "    \"inputs\": [[\n",
    "        {\"role\": \"system\", \"content\": system_prompt},\n",
    "        {\"role\": \"user\", \"content\": user_prompt},\n",
    "    ]],\n",
    "    \"parameters\": {\"max_new_tokens\": 512, \"top_p\": 0.9, \"temperature\": 0.6}\n",
    "}\n",
    "response = predictor.predict(payload, custom_attributes='accept_eula=true')\n",
    "print_dialog(payload, response)"
   ]
  },
  {
   "cell_type": "code",
   "execution_count": 38,
   "id": "a66bfae8-ba13-4596-8094-1552ed099c13",
   "metadata": {
    "tags": []
   },
   "outputs": [],
   "source": [
    "system_prompt = f\"\"\"\n",
    "You are an intelligent chatbot. Answer the questions only using the following context:\n",
    "\n",
    "{Amazon_Shareholder_Letter_1997}\n",
    "\n",
    "Here are some rules you always follow:\n",
    "\n",
    "- Generate human readable output, avoid creating output with gibberish text.\n",
    "- Generate only the requested output, don't include any other language before or after the requested output.\n",
    "- Never say thank you, that you are happy to help, that you are an AI agent, etc. Just answer directly.\n",
    "- Generate professional language typically used in business documents in North America.\n",
    "- Never generate offensive or foul language.\n",
    "\"\"\"\n",
    "\n",
    "user_prompt = \"Draft a memo to all employees detailing the objectives for 1998\""
   ]
  },
  {
   "cell_type": "code",
   "execution_count": 39,
   "id": "42073595-29b0-4f9b-8778-767d98284b01",
   "metadata": {
    "tags": []
   },
   "outputs": [
    {
     "name": "stdout",
     "output_type": "stream",
     "text": [
      "System: \n",
      "You are an intelligent chatbot. Answer the questions only using the following context:\n",
      "\n",
      "To our shareholders:\n",
      "\n",
      "Amazon.com passed many milestones in 1997: by year-end, we had served more than 1.5 million customers, yielding 838% revenue growth to $147.8 million, and extended our market leadership despite aggressive competitive entry.\n",
      "\n",
      "But this is Day 1 for the Internet and, if we execute well, for Amazon.com. Today, online commerce saves customers money and precious time. Tomorrow, through personalization, online commerce will accelerate the very process of discovery. Amazon.com uses the Internet to create real value for its customers and, by doing so, hopes to create an enduring franchise, even in established and large markets.\n",
      "\n",
      "We have a window of opportunity as larger players marshal the resources to pursue the online opportunity and as customers, new to purchasing online, are receptive to forming new relationships. The competitive landscape has continued to evolve at a fast pace. Many large players have moved online with credible offerings and have devoted substantial energy and resources to building awareness, traffic, and sales. Our goal is to move quickly to solidify and extend our current position while we begin to pursue the online commerce opportunities in other areas. We see substantial opportunity in the large markets we are targeting. This strategy is not without risk: it requires serious investment and crisp execution against established franchise leaders.\n",
      "\n",
      "It's All About the Long Term\n",
      "\n",
      "We believe that a fundamental measure of our success will be the shareholder value we create over the long term. This value will be a direct result of our ability to extend and solidify our current market leadership position. The stronger our market leadership, the more powerful our economic model. Market leadership can translate directly to higher revenue, higher profitability, greater capital velocity, and correspondingly stronger returns on invested capital.\n",
      "\n",
      "Our decisions have consistently reflected this focus. We first measure ourselves in terms of the metrics most indicative of our market leadership: customer and revenue growth, the degree to which our customers continue to purchase from us on a repeat basis, and the strength of our brand. We have invested and will continue to invest aggressively to expand and leverage our customer base, brand, and infrastructure as we move to establish an enduring franchise.\n",
      "\n",
      "Because of our emphasis on the long term, we may make decisions and weigh tradeoffs differently than some companies. Accordingly, we want to share with you our fundamental management and decision-making approach so that you, our shareholders, may confirm that it is consistent with your investment philosophy:\n",
      "\n",
      "We will continue to focus relentlessly on our customers.\n",
      "\n",
      "- We will continue to make investment decisions in light of long-term market leadership considerations rather than short-term profitability considerations or short-term Wall Street reactions.\n",
      "- We will continue to measure our programs and the effectiveness of our investments analytically, to jettison those that do not provide acceptable returns, and to step up our investment in those that work best. We will continue to learn from both our successes and our failures.\n",
      "- We will make bold rather than timid investment decisions where we see a sufficient probability of gaining market leadership advantages. Some of these investments will pay off, others will not, and we will have learned another valuable lesson in either case.\n",
      "- When forced to choose between optimizing the appearance of our GAAP accounting and maximizing the present value of future cash flows, we'll take the cash flows.\n",
      "- We will share our strategic thought processes with you when we make bold choices (to the extent competitive pressures allow), so that you may evaluate for yourselves whether we are making rational long-term leadership investments.\n",
      "- We will work hard to spend wisely and maintain our lean culture. We understand the importance of continually reinforcing a cost-conscious culture, particularly in a business incurring net losses.\n",
      "- We will balance our focus on growth with emphasis on long-term profitability and capital management. At this stage, we choose to prioritize growth because we believe that scale is central to achieving the potential of our business model.\n",
      "- We will continue to focus on hiring and retaining versatile and talented employees, and continue to weight their compensation to stock options rather than cash. We know our success will be largely affected by our ability to attract and retain a motivated employee base, each of whom must think like, and therefore must actually be, an owner.\n",
      "\n",
      "We aren't so bold as to claim that the above is the \"right\" investment philosophy, but it's ours, and we would be remiss if we weren't clear in the approach we have taken and will continue to take.\n",
      "\n",
      "With this foundation, we would like to turn to a review of our business focus, our progress in 1997, and our outlook for the future.\n",
      "\n",
      "Obsess Over Customers\n",
      "\n",
      "From the beginning, our focus has been on offering our customers compelling value. We realized that the Web was, and still is, the World Wide Wait. Therefore, we set out to offer customers something they simply could not get any other way, and began serving them with books. We brought them much more selection than was possible in a physical store (our store would now occupy 6 football fields), and presented it in a useful, easy-to- search, and easy-to-browse format in a store open 365 days a year, 24 hours a day. We maintained a dogged focus on improving the shopping experience, and in 1997 substantially enhanced our store. We now offer customers gift certificates, 1-Click(SM) shopping, and vastly more reviews, content, browsing options, and recommendation features. We dramatically lowered prices, further increasing customer value. Word of mouth remains the most powerful customer acquisition tool we have, and we are grateful for the trust our customers have placed in us. Repeat purchases and word of mouth have combined to make Amazon.com the market leader in online bookselling.\n",
      "\n",
      "By many measures, Amazon.com came a long way in 1997:\n",
      "\n",
      "- Sales grew from $15.7 million in 1996 to $147.8 million -- an 838% increase.\n",
      "- Cumulative customer accounts grew from 180,000 to 1,510,000 -- a 738% increase.\n",
      "- The percentage of orders from repeat customers grew from over 46% in the fourth quarter of 1996 to over 58% in the same period in 1997.\n",
      "- In terms of audience reach, per Media Metrix, our Web site went from a rank of 90th to within the top 20.\n",
      "- We established long-term relationships with many important strategic partners, including America Online, Yahoo!, Excite, Netscape, GeoCities, AltaVista, @Home, and Prodigy.\n",
      "\n",
      "Infrastructure\n",
      "\n",
      "During 1997, we worked hard to expand our business infrastructure to support these greatly increased traffic, sales, and service levels:\n",
      "\n",
      "- Amazon.com's employee base grew from 158 to 614, and we significantly strengthened our management team.\n",
      "- Distribution center capacity grew from 50,000 to 285,000 square feet, including a 70% expansion of our Seattle facilities and the launch of our second distribution center in Delaware in November.\n",
      "- Inventories rose to over 200,000 titles at year-end, enabling us to improve availability for our customers.\n",
      "- Our cash and investment balances at year-end were $125 million, thanks to our initial public offering in May 1997 and our $75 million loan,\n",
      "affording us substantial strategic flexibility.\n",
      "\n",
      "Our Employees\n",
      "\n",
      "The past year's success is the product of a talented, smart, hard-working group, and I take great pride in being a part of this team. Setting the bar high in our approach to hiring has been, and will continue to be, the single most important element of Amazon.com's success.\n",
      "\n",
      "It's not easy to work here (when I interview people I tell them, “You can work long, hard, or smart, but at Amazon.com you can't choose two out of three”), but we are working to build something important, something that matters to our customers, something that we can all tell our grandchildren about. Such things aren't meant to be easy. We are incredibly fortunate to have this group of dedicated employees whose sacrifices and passion build Amazon.com.\n",
      "\n",
      "Goals for 1998\n",
      "\n",
      "We are still in the early stages of learning how to bring new value to our customers through Internet commerce and merchandising. Our goal remains to continue to solidify and extend our brand and customer base. This requires sustained investment in systems and infrastructure to support outstanding customer convenience, selection, and service while we grow. We are planning to add music to our product offering, and over time we believe that other products may be prudent investments. We also believe there are significant opportunities to better serve our customers overseas, such as reducing delivery times and better tailoring the customer experience. To be certain, a big part of the challenge for us will lie not in finding new ways to expand our business, but in prioritizing our investments.\n",
      "\n",
      "We now know vastly more about online commerce than when Amazon.com was founded, but we still have so much to learn. Though we are optimistic, we must remain vigilant and maintain a sense of urgency. The challenges and hurdles we will face to make our long-term vision for Amazon.com a reality are several: aggressive, capable, well-funded competition; considerable growth challenges and execution risk; the risks of product and geographic expansion; and the need for large continuing investments to meet an expanding market opportunity. However, as we've long said, online bookselling, and online commerce in general, should prove to be a very large market, and it's likely that a number of companies will see significant benefit. We feel good about what we've done, and even more excited about what we want to do.\n",
      "\n",
      "1997 was indeed an incredible year. We at Amazon.com are grateful to our customers for their business and trust, to each other for our hard work, and to our shareholders for their support and encouragement.\n",
      "\n",
      "Jeffrey P. Bezos\n",
      "Founder and Chief Executive Officer Amazon.com, Inc.\n",
      "\n",
      "Here are some rules you always follow:\n",
      "\n",
      "- Generate human readable output, avoid creating output with gibberish text.\n",
      "- Generate only the requested output, don't include any other language before or after the requested output.\n",
      "- Never say thank you, that you are happy to help, that you are an AI agent, etc. Just answer directly.\n",
      "- Generate professional language typically used in business documents in North America.\n",
      "- Never generate offensive or foul language.\n",
      "\n",
      "\n",
      "User: Draft a memo to all employees detailing the objectives for 1998\n",
      "\n",
      "\u001b[31m======================================================\n",
      "\n",
      "\n",
      "\u001b[38;2;255;165;0mAssistant:  To: All Employees\n",
      "\n",
      "Subject: Objectives for 1998\n",
      "\n",
      "As we enter the new year, I am excited to share with you our objectives for 1998. Our focus will remain on offering our customers compelling value, and we will continue to invest in systems and infrastructure to support outstanding customer convenience, selection, and service while we grow.\n",
      "\n",
      "Our specific objectives for 1998 are as follows:\n",
      "\n",
      "1. Expand our product offerings: We will add music to our product offering and explore other opportunities for growth.\n",
      "2. Enhance our customer experience: We will continue to improve our website and customer service to ensure that our customers have the best possible experience with us.\n",
      "3. Increase our market share: We will focus on solidifying and extending our brand and customer base, and we will invest in marketing and advertising to drive growth.\n",
      "4. Improve our infrastructure: We will continue to expand our distribution centers and invest in technology to support our growth.\n",
      "5. Foster a culture of innovation: We will encourage our employees to think creatively and propose new ideas for improving our business.\n",
      "\n",
      "To achieve these objectives, we will prioritize our investments in the following areas:\n",
      "\n",
      "1. Technology and infrastructure: We will continue to invest in technology to support our growth and improve our customer experience.\n",
      "2. Marketing and advertising: We will invest in marketing and advertising to drive growth and increase our market share.\n",
      "3. Employee development: We will continue to hire and develop talented employees to build a strong and dedicated team.\n",
      "\n",
      "I am confident that if we work together to achieve these objectives, we will continue to grow and succeed in the new year. Thank you for your hard work and dedication to Amazon.com.\n",
      "\n",
      "Best regards,\n",
      "\n",
      "Jeffrey P. Bezos\n",
      "Founder and Chief Executive Officer Amazon.com, Inc.\n",
      "\u001b[31m======================================================\n",
      "\u001b[0m\n",
      "CPU times: user 4.34 ms, sys: 56 µs, total: 4.39 ms\n",
      "Wall time: 9.72 s\n"
     ]
    }
   ],
   "source": [
    "%%time\n",
    "\n",
    "payload = {\n",
    "    \"inputs\": [[\n",
    "        {\"role\": \"system\", \"content\": system_prompt},\n",
    "        {\"role\": \"user\", \"content\": user_prompt},\n",
    "    ]],\n",
    "    \"parameters\": {\"max_new_tokens\": 512, \"top_p\": 0.9, \"temperature\": 0.6}\n",
    "}\n",
    "response = predictor.predict(payload, custom_attributes='accept_eula=true')\n",
    "print_dialog(payload, response)"
   ]
  },
  {
   "cell_type": "markdown",
   "id": "5e062d29",
   "metadata": {},
   "source": [
    "## Clean up the endpoint"
   ]
  },
  {
   "cell_type": "code",
   "execution_count": null,
   "id": "24cc5560",
   "metadata": {
    "tags": []
   },
   "outputs": [],
   "source": [
    "# Delete the SageMaker endpoint\n",
    "predictor.delete_model()\n",
    "predictor.delete_endpoint()"
   ]
  },
  {
   "cell_type": "code",
   "execution_count": null,
   "id": "90f42564-8aec-4b23-926e-3fb2befccdae",
   "metadata": {},
   "outputs": [],
   "source": []
  }
 ],
 "metadata": {
  "availableInstances": [
   {
    "_defaultOrder": 0,
    "_isFastLaunch": true,
    "category": "General purpose",
    "gpuNum": 0,
    "hideHardwareSpecs": false,
    "memoryGiB": 4,
    "name": "ml.t3.medium",
    "vcpuNum": 2
   },
   {
    "_defaultOrder": 1,
    "_isFastLaunch": false,
    "category": "General purpose",
    "gpuNum": 0,
    "hideHardwareSpecs": false,
    "memoryGiB": 8,
    "name": "ml.t3.large",
    "vcpuNum": 2
   },
   {
    "_defaultOrder": 2,
    "_isFastLaunch": false,
    "category": "General purpose",
    "gpuNum": 0,
    "hideHardwareSpecs": false,
    "memoryGiB": 16,
    "name": "ml.t3.xlarge",
    "vcpuNum": 4
   },
   {
    "_defaultOrder": 3,
    "_isFastLaunch": false,
    "category": "General purpose",
    "gpuNum": 0,
    "hideHardwareSpecs": false,
    "memoryGiB": 32,
    "name": "ml.t3.2xlarge",
    "vcpuNum": 8
   },
   {
    "_defaultOrder": 4,
    "_isFastLaunch": true,
    "category": "General purpose",
    "gpuNum": 0,
    "hideHardwareSpecs": false,
    "memoryGiB": 8,
    "name": "ml.m5.large",
    "vcpuNum": 2
   },
   {
    "_defaultOrder": 5,
    "_isFastLaunch": false,
    "category": "General purpose",
    "gpuNum": 0,
    "hideHardwareSpecs": false,
    "memoryGiB": 16,
    "name": "ml.m5.xlarge",
    "vcpuNum": 4
   },
   {
    "_defaultOrder": 6,
    "_isFastLaunch": false,
    "category": "General purpose",
    "gpuNum": 0,
    "hideHardwareSpecs": false,
    "memoryGiB": 32,
    "name": "ml.m5.2xlarge",
    "vcpuNum": 8
   },
   {
    "_defaultOrder": 7,
    "_isFastLaunch": false,
    "category": "General purpose",
    "gpuNum": 0,
    "hideHardwareSpecs": false,
    "memoryGiB": 64,
    "name": "ml.m5.4xlarge",
    "vcpuNum": 16
   },
   {
    "_defaultOrder": 8,
    "_isFastLaunch": false,
    "category": "General purpose",
    "gpuNum": 0,
    "hideHardwareSpecs": false,
    "memoryGiB": 128,
    "name": "ml.m5.8xlarge",
    "vcpuNum": 32
   },
   {
    "_defaultOrder": 9,
    "_isFastLaunch": false,
    "category": "General purpose",
    "gpuNum": 0,
    "hideHardwareSpecs": false,
    "memoryGiB": 192,
    "name": "ml.m5.12xlarge",
    "vcpuNum": 48
   },
   {
    "_defaultOrder": 10,
    "_isFastLaunch": false,
    "category": "General purpose",
    "gpuNum": 0,
    "hideHardwareSpecs": false,
    "memoryGiB": 256,
    "name": "ml.m5.16xlarge",
    "vcpuNum": 64
   },
   {
    "_defaultOrder": 11,
    "_isFastLaunch": false,
    "category": "General purpose",
    "gpuNum": 0,
    "hideHardwareSpecs": false,
    "memoryGiB": 384,
    "name": "ml.m5.24xlarge",
    "vcpuNum": 96
   },
   {
    "_defaultOrder": 12,
    "_isFastLaunch": false,
    "category": "General purpose",
    "gpuNum": 0,
    "hideHardwareSpecs": false,
    "memoryGiB": 8,
    "name": "ml.m5d.large",
    "vcpuNum": 2
   },
   {
    "_defaultOrder": 13,
    "_isFastLaunch": false,
    "category": "General purpose",
    "gpuNum": 0,
    "hideHardwareSpecs": false,
    "memoryGiB": 16,
    "name": "ml.m5d.xlarge",
    "vcpuNum": 4
   },
   {
    "_defaultOrder": 14,
    "_isFastLaunch": false,
    "category": "General purpose",
    "gpuNum": 0,
    "hideHardwareSpecs": false,
    "memoryGiB": 32,
    "name": "ml.m5d.2xlarge",
    "vcpuNum": 8
   },
   {
    "_defaultOrder": 15,
    "_isFastLaunch": false,
    "category": "General purpose",
    "gpuNum": 0,
    "hideHardwareSpecs": false,
    "memoryGiB": 64,
    "name": "ml.m5d.4xlarge",
    "vcpuNum": 16
   },
   {
    "_defaultOrder": 16,
    "_isFastLaunch": false,
    "category": "General purpose",
    "gpuNum": 0,
    "hideHardwareSpecs": false,
    "memoryGiB": 128,
    "name": "ml.m5d.8xlarge",
    "vcpuNum": 32
   },
   {
    "_defaultOrder": 17,
    "_isFastLaunch": false,
    "category": "General purpose",
    "gpuNum": 0,
    "hideHardwareSpecs": false,
    "memoryGiB": 192,
    "name": "ml.m5d.12xlarge",
    "vcpuNum": 48
   },
   {
    "_defaultOrder": 18,
    "_isFastLaunch": false,
    "category": "General purpose",
    "gpuNum": 0,
    "hideHardwareSpecs": false,
    "memoryGiB": 256,
    "name": "ml.m5d.16xlarge",
    "vcpuNum": 64
   },
   {
    "_defaultOrder": 19,
    "_isFastLaunch": false,
    "category": "General purpose",
    "gpuNum": 0,
    "hideHardwareSpecs": false,
    "memoryGiB": 384,
    "name": "ml.m5d.24xlarge",
    "vcpuNum": 96
   },
   {
    "_defaultOrder": 20,
    "_isFastLaunch": false,
    "category": "General purpose",
    "gpuNum": 0,
    "hideHardwareSpecs": true,
    "memoryGiB": 0,
    "name": "ml.geospatial.interactive",
    "supportedImageNames": [
     "sagemaker-geospatial-v1-0"
    ],
    "vcpuNum": 0
   },
   {
    "_defaultOrder": 21,
    "_isFastLaunch": true,
    "category": "Compute optimized",
    "gpuNum": 0,
    "hideHardwareSpecs": false,
    "memoryGiB": 4,
    "name": "ml.c5.large",
    "vcpuNum": 2
   },
   {
    "_defaultOrder": 22,
    "_isFastLaunch": false,
    "category": "Compute optimized",
    "gpuNum": 0,
    "hideHardwareSpecs": false,
    "memoryGiB": 8,
    "name": "ml.c5.xlarge",
    "vcpuNum": 4
   },
   {
    "_defaultOrder": 23,
    "_isFastLaunch": false,
    "category": "Compute optimized",
    "gpuNum": 0,
    "hideHardwareSpecs": false,
    "memoryGiB": 16,
    "name": "ml.c5.2xlarge",
    "vcpuNum": 8
   },
   {
    "_defaultOrder": 24,
    "_isFastLaunch": false,
    "category": "Compute optimized",
    "gpuNum": 0,
    "hideHardwareSpecs": false,
    "memoryGiB": 32,
    "name": "ml.c5.4xlarge",
    "vcpuNum": 16
   },
   {
    "_defaultOrder": 25,
    "_isFastLaunch": false,
    "category": "Compute optimized",
    "gpuNum": 0,
    "hideHardwareSpecs": false,
    "memoryGiB": 72,
    "name": "ml.c5.9xlarge",
    "vcpuNum": 36
   },
   {
    "_defaultOrder": 26,
    "_isFastLaunch": false,
    "category": "Compute optimized",
    "gpuNum": 0,
    "hideHardwareSpecs": false,
    "memoryGiB": 96,
    "name": "ml.c5.12xlarge",
    "vcpuNum": 48
   },
   {
    "_defaultOrder": 27,
    "_isFastLaunch": false,
    "category": "Compute optimized",
    "gpuNum": 0,
    "hideHardwareSpecs": false,
    "memoryGiB": 144,
    "name": "ml.c5.18xlarge",
    "vcpuNum": 72
   },
   {
    "_defaultOrder": 28,
    "_isFastLaunch": false,
    "category": "Compute optimized",
    "gpuNum": 0,
    "hideHardwareSpecs": false,
    "memoryGiB": 192,
    "name": "ml.c5.24xlarge",
    "vcpuNum": 96
   },
   {
    "_defaultOrder": 29,
    "_isFastLaunch": true,
    "category": "Accelerated computing",
    "gpuNum": 1,
    "hideHardwareSpecs": false,
    "memoryGiB": 16,
    "name": "ml.g4dn.xlarge",
    "vcpuNum": 4
   },
   {
    "_defaultOrder": 30,
    "_isFastLaunch": false,
    "category": "Accelerated computing",
    "gpuNum": 1,
    "hideHardwareSpecs": false,
    "memoryGiB": 32,
    "name": "ml.g4dn.2xlarge",
    "vcpuNum": 8
   },
   {
    "_defaultOrder": 31,
    "_isFastLaunch": false,
    "category": "Accelerated computing",
    "gpuNum": 1,
    "hideHardwareSpecs": false,
    "memoryGiB": 64,
    "name": "ml.g4dn.4xlarge",
    "vcpuNum": 16
   },
   {
    "_defaultOrder": 32,
    "_isFastLaunch": false,
    "category": "Accelerated computing",
    "gpuNum": 1,
    "hideHardwareSpecs": false,
    "memoryGiB": 128,
    "name": "ml.g4dn.8xlarge",
    "vcpuNum": 32
   },
   {
    "_defaultOrder": 33,
    "_isFastLaunch": false,
    "category": "Accelerated computing",
    "gpuNum": 4,
    "hideHardwareSpecs": false,
    "memoryGiB": 192,
    "name": "ml.g4dn.12xlarge",
    "vcpuNum": 48
   },
   {
    "_defaultOrder": 34,
    "_isFastLaunch": false,
    "category": "Accelerated computing",
    "gpuNum": 1,
    "hideHardwareSpecs": false,
    "memoryGiB": 256,
    "name": "ml.g4dn.16xlarge",
    "vcpuNum": 64
   },
   {
    "_defaultOrder": 35,
    "_isFastLaunch": false,
    "category": "Accelerated computing",
    "gpuNum": 1,
    "hideHardwareSpecs": false,
    "memoryGiB": 61,
    "name": "ml.p3.2xlarge",
    "vcpuNum": 8
   },
   {
    "_defaultOrder": 36,
    "_isFastLaunch": false,
    "category": "Accelerated computing",
    "gpuNum": 4,
    "hideHardwareSpecs": false,
    "memoryGiB": 244,
    "name": "ml.p3.8xlarge",
    "vcpuNum": 32
   },
   {
    "_defaultOrder": 37,
    "_isFastLaunch": false,
    "category": "Accelerated computing",
    "gpuNum": 8,
    "hideHardwareSpecs": false,
    "memoryGiB": 488,
    "name": "ml.p3.16xlarge",
    "vcpuNum": 64
   },
   {
    "_defaultOrder": 38,
    "_isFastLaunch": false,
    "category": "Accelerated computing",
    "gpuNum": 8,
    "hideHardwareSpecs": false,
    "memoryGiB": 768,
    "name": "ml.p3dn.24xlarge",
    "vcpuNum": 96
   },
   {
    "_defaultOrder": 39,
    "_isFastLaunch": false,
    "category": "Memory Optimized",
    "gpuNum": 0,
    "hideHardwareSpecs": false,
    "memoryGiB": 16,
    "name": "ml.r5.large",
    "vcpuNum": 2
   },
   {
    "_defaultOrder": 40,
    "_isFastLaunch": false,
    "category": "Memory Optimized",
    "gpuNum": 0,
    "hideHardwareSpecs": false,
    "memoryGiB": 32,
    "name": "ml.r5.xlarge",
    "vcpuNum": 4
   },
   {
    "_defaultOrder": 41,
    "_isFastLaunch": false,
    "category": "Memory Optimized",
    "gpuNum": 0,
    "hideHardwareSpecs": false,
    "memoryGiB": 64,
    "name": "ml.r5.2xlarge",
    "vcpuNum": 8
   },
   {
    "_defaultOrder": 42,
    "_isFastLaunch": false,
    "category": "Memory Optimized",
    "gpuNum": 0,
    "hideHardwareSpecs": false,
    "memoryGiB": 128,
    "name": "ml.r5.4xlarge",
    "vcpuNum": 16
   },
   {
    "_defaultOrder": 43,
    "_isFastLaunch": false,
    "category": "Memory Optimized",
    "gpuNum": 0,
    "hideHardwareSpecs": false,
    "memoryGiB": 256,
    "name": "ml.r5.8xlarge",
    "vcpuNum": 32
   },
   {
    "_defaultOrder": 44,
    "_isFastLaunch": false,
    "category": "Memory Optimized",
    "gpuNum": 0,
    "hideHardwareSpecs": false,
    "memoryGiB": 384,
    "name": "ml.r5.12xlarge",
    "vcpuNum": 48
   },
   {
    "_defaultOrder": 45,
    "_isFastLaunch": false,
    "category": "Memory Optimized",
    "gpuNum": 0,
    "hideHardwareSpecs": false,
    "memoryGiB": 512,
    "name": "ml.r5.16xlarge",
    "vcpuNum": 64
   },
   {
    "_defaultOrder": 46,
    "_isFastLaunch": false,
    "category": "Memory Optimized",
    "gpuNum": 0,
    "hideHardwareSpecs": false,
    "memoryGiB": 768,
    "name": "ml.r5.24xlarge",
    "vcpuNum": 96
   },
   {
    "_defaultOrder": 47,
    "_isFastLaunch": false,
    "category": "Accelerated computing",
    "gpuNum": 1,
    "hideHardwareSpecs": false,
    "memoryGiB": 16,
    "name": "ml.g5.xlarge",
    "vcpuNum": 4
   },
   {
    "_defaultOrder": 48,
    "_isFastLaunch": false,
    "category": "Accelerated computing",
    "gpuNum": 1,
    "hideHardwareSpecs": false,
    "memoryGiB": 32,
    "name": "ml.g5.2xlarge",
    "vcpuNum": 8
   },
   {
    "_defaultOrder": 49,
    "_isFastLaunch": false,
    "category": "Accelerated computing",
    "gpuNum": 1,
    "hideHardwareSpecs": false,
    "memoryGiB": 64,
    "name": "ml.g5.4xlarge",
    "vcpuNum": 16
   },
   {
    "_defaultOrder": 50,
    "_isFastLaunch": false,
    "category": "Accelerated computing",
    "gpuNum": 1,
    "hideHardwareSpecs": false,
    "memoryGiB": 128,
    "name": "ml.g5.8xlarge",
    "vcpuNum": 32
   },
   {
    "_defaultOrder": 51,
    "_isFastLaunch": false,
    "category": "Accelerated computing",
    "gpuNum": 1,
    "hideHardwareSpecs": false,
    "memoryGiB": 256,
    "name": "ml.g5.16xlarge",
    "vcpuNum": 64
   },
   {
    "_defaultOrder": 52,
    "_isFastLaunch": false,
    "category": "Accelerated computing",
    "gpuNum": 4,
    "hideHardwareSpecs": false,
    "memoryGiB": 192,
    "name": "ml.g5.12xlarge",
    "vcpuNum": 48
   },
   {
    "_defaultOrder": 53,
    "_isFastLaunch": false,
    "category": "Accelerated computing",
    "gpuNum": 4,
    "hideHardwareSpecs": false,
    "memoryGiB": 384,
    "name": "ml.g5.24xlarge",
    "vcpuNum": 96
   },
   {
    "_defaultOrder": 54,
    "_isFastLaunch": false,
    "category": "Accelerated computing",
    "gpuNum": 8,
    "hideHardwareSpecs": false,
    "memoryGiB": 768,
    "name": "ml.g5.48xlarge",
    "vcpuNum": 192
   },
   {
    "_defaultOrder": 55,
    "_isFastLaunch": false,
    "category": "Accelerated computing",
    "gpuNum": 8,
    "hideHardwareSpecs": false,
    "memoryGiB": 1152,
    "name": "ml.p4d.24xlarge",
    "vcpuNum": 96
   },
   {
    "_defaultOrder": 56,
    "_isFastLaunch": false,
    "category": "Accelerated computing",
    "gpuNum": 8,
    "hideHardwareSpecs": false,
    "memoryGiB": 1152,
    "name": "ml.p4de.24xlarge",
    "vcpuNum": 96
   }
  ],
  "instance_type": "ml.t3.medium",
  "kernelspec": {
   "display_name": "Python 3 (ipykernel)",
   "language": "python",
   "name": "python3"
  },
  "language_info": {
   "codemirror_mode": {
    "name": "ipython",
    "version": 3
   },
   "file_extension": ".py",
   "mimetype": "text/x-python",
   "name": "python",
   "nbconvert_exporter": "python",
   "pygments_lexer": "ipython3",
   "version": "3.8.2"
  }
 },
 "nbformat": 4,
 "nbformat_minor": 5
}
